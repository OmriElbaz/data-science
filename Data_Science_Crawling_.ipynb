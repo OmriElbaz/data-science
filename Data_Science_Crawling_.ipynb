{
  "nbformat": 4,
  "nbformat_minor": 0,
  "metadata": {
    "colab": {
      "name": "Data_Science_Crawling .ipynb",
      "provenance": [],
      "collapsed_sections": []
    },
    "kernelspec": {
      "name": "python3",
      "display_name": "Python 3"
    },
    "language_info": {
      "name": "python"
    }
  },
  "cells": [
    {
      "cell_type": "code",
      "execution_count": null,
      "metadata": {
        "id": "sX2hAMClIIWk"
      },
      "outputs": [],
      "source": [
        "from bs4 import BeautifulSoup\n",
        "import requests \n",
        "import pandas as pd\n",
        "import time\n",
        "import random\n",
        "import json"
      ]
    },
    {
      "cell_type": "code",
      "source": [
        "from google.colab import drive\n",
        "#conect to google drive\n",
        "drive.mount('/content/drive')\n",
        "\n",
        "#path\n",
        "%cd /content/drive/My Drive/Colab Notebooks"
      ],
      "metadata": {
        "colab": {
          "base_uri": "https://localhost:8080/"
        },
        "id": "ty3IzKmPLVqs",
        "outputId": "2f44c898-542e-4115-f4f7-65096c2c89ed"
      },
      "execution_count": null,
      "outputs": [
        {
          "output_type": "stream",
          "name": "stdout",
          "text": [
            "Mounted at /content/drive\n",
            "/content/drive/My Drive/Colab Notebooks\n"
          ]
        }
      ]
    },
    {
      "cell_type": "code",
      "source": [
        "#get all brands\n",
        "devices=list()\n",
        "brands=list()\n",
        "links=list()\n",
        "\n",
        "url=\"https://www.gsmarena.com/\"\n",
        "response = requests.get(url)\n",
        "soup = BeautifulSoup(response.content, \"html.parser\")\n",
        "allBrands=soup.find(\"a\",{\"class\": \"pad-multiple pad-allbrands\"})\n",
        "\n",
        "\n",
        "response = requests.get(url+allBrands['href'])\n",
        "soup = BeautifulSoup(response.content, \"html.parser\")\n",
        "table=soup.find(\"table\")\n",
        "\n",
        "\n",
        "\n",
        "for tr in table(\"tr\"):\n",
        "    td = tr.find_all('td')\n",
        "    for brand in td:\n",
        "        brands.append(brand.find(text=True))\n",
        "        devices.append(brand.find(\"span\").contents[0].split(' ', 1)[0])\n",
        "        links.append(url+brand.find(\"a\")['href'])\n",
        "        \n",
        "df = pd.DataFrame({\"brands\":brands,\"devices\":devices,\"links\":links})\n",
        "df= df.astype({'devices':'int'})\n",
        "\n",
        "\n",
        "df.to_csv('linksBrands.csv')"
      ],
      "metadata": {
        "id": "5ZgKmB_7ILJd"
      },
      "execution_count": null,
      "outputs": []
    },
    {
      "cell_type": "code",
      "source": [
        "#get links phone from brands\n",
        "def getLinkPhone(soup, brand):\n",
        "    ul=soup.find(\"div\",{\"class\":\"makers\"})\n",
        "    if ul:\n",
        "        ul=ul.find(\"ul\")\n",
        "        for li in ul(\"li\"):\n",
        "            linksPhone.append(url+li.find(\"a\")['href'])\n",
        "            brandPhone.append(brand)\n",
        "        return True\n",
        "    else:\n",
        "        return False"
      ],
      "metadata": {
        "id": "_YZIc5LgpUve"
      },
      "execution_count": null,
      "outputs": []
    },
    {
      "cell_type": "code",
      "source": [
        "#---------------------------LOAD first run for links phone\n",
        "dfLinkBrands = pd.read_csv('linksBrands.csv')\n",
        "waterMark=0"
      ],
      "metadata": {
        "id": "UDNbfDbVCsFW"
      },
      "execution_count": null,
      "outputs": []
    },
    {
      "cell_type": "code",
      "source": [
        "#---------------------------All LOAD after reconnect for links phone\n",
        "\n",
        "#load brand\n",
        "dfLinkBrands = pd.read_csv('linksBrands.csv')\n",
        "\n",
        "\n",
        "#load log\n",
        "f=open(\"log.txt\",\"r\")\n",
        "try: \n",
        "  waterMark=int(f.read())\n",
        "except:\n",
        "  print(\"error\")"
      ],
      "metadata": {
        "colab": {
          "base_uri": "https://localhost:8080/"
        },
        "cellView": "code",
        "id": "It3WC-DpAjhA",
        "outputId": "a3d99b13-4f79-43c7-c76f-dcc24a22fd40"
      },
      "execution_count": null,
      "outputs": [
        {
          "output_type": "stream",
          "name": "stdout",
          "text": [
            "\n"
          ]
        }
      ]
    },
    {
      "cell_type": "code",
      "source": [
        "flag=True\n",
        "linksPhone=list()\n",
        "brandPhone=list()\n",
        "\n",
        "url=\"https://www.gsmarena.com/\"\n",
        "\n",
        "for i in range(waterMark, len(dfLinkBrands)):\n",
        "    response = requests.get(dfLinkBrands.iloc[i]['links'])\n",
        "    soup = BeautifulSoup(response.content, \"html.parser\")\n",
        "    time.sleep(random.uniform(1.1, 2.3))\n",
        "    flag=getLinkPhone(soup,dfLinkBrands.iloc[i]['brands'])\n",
        "    if(flag==False):\n",
        "        waterMark=i\n",
        "        break;   \n",
        "    #check all pages of brand\n",
        "    navPage = soup.find(\"div\",{\"class\":\"nav-pages\"})\n",
        "    if navPage:\n",
        "        for pageLink in navPage(\"a\"):\n",
        "          response = requests.get(url+pageLink[\"href\"])\n",
        "          soup = BeautifulSoup(response.content, \"html.parser\")\n",
        "          time.sleep(random.uniform(1.1, 2.3))\n",
        "          getLinkPhone(soup,dfLinkBrands.iloc[i]['brands'])\n",
        "          if(flag==False):\n",
        "              waterMark=i\n",
        "              break;\n"
      ],
      "metadata": {
        "id": "REG5BnLUoBG-"
      },
      "execution_count": null,
      "outputs": []
    },
    {
      "cell_type": "code",
      "source": [
        "#---------------------------All SAVE after many request for links phone\n",
        "\n",
        "#save links\n",
        "dfLinksPhone = pd.DataFrame({\"brand\":brandPhone,\"link\":linksPhone})\n",
        "dfLinksPhone.to_csv('LinksPhone.csv', index=False)\n",
        "\n",
        "#save log\n",
        "f=open(\"log.txt\",\"w\")\n",
        "f.write(str(waterMark))"
      ],
      "metadata": {
        "colab": {
          "base_uri": "https://localhost:8080/"
        },
        "id": "bfZ3bQGFyNgB",
        "outputId": "9ca5bfba-d3c4-4f58-8fcc-1089f93501e4"
      },
      "execution_count": null,
      "outputs": [
        {
          "output_type": "execute_result",
          "data": {
            "text/plain": [
              "1"
            ]
          },
          "metadata": {},
          "execution_count": 68
        }
      ]
    },
    {
      "cell_type": "code",
      "source": [
        "#for i in range(100, len(dfLinkBrands)):\n",
        "#  print(df.iloc[i]['links'])"
      ],
      "metadata": {
        "id": "0uWQtYdb0EM9"
      },
      "execution_count": null,
      "outputs": []
    },
    {
      "cell_type": "code",
      "source": [
        "#---------------------------LOAD first run for details phone\n",
        "waterMark=0\n",
        "dfLinksPhone = pd.read_csv('LinksPhone.csv')"
      ],
      "metadata": {
        "id": "YjwzTVCHGTVT"
      },
      "execution_count": null,
      "outputs": []
    },
    {
      "cell_type": "code",
      "source": [
        "#---------------------------All LOAD after reconnect for details phone\n",
        "#load links phone\n",
        "dfLinksPhone = pd.read_csv('LinksPhone.csv')\n",
        "\n",
        "#load log\n",
        "f=open(\"log.txt\",\"r\")\n",
        "try: \n",
        "  waterMark=int(f.read())\n",
        "except:\n",
        "  print(\"error\")"
      ],
      "metadata": {
        "colab": {
          "base_uri": "https://localhost:8080/"
        },
        "id": "SP-lLwjb-25K",
        "outputId": "0394402d-4e9a-46cc-d63e-f50cc813608c"
      },
      "execution_count": null,
      "outputs": [
        {
          "output_type": "stream",
          "name": "stdout",
          "text": [
            "error\n"
          ]
        }
      ]
    },
    {
      "cell_type": "code",
      "source": [
        "waterMark=557"
      ],
      "metadata": {
        "id": "Z271jEjuBKRH"
      },
      "execution_count": null,
      "outputs": []
    },
    {
      "cell_type": "code",
      "source": [
        "#---------------------------All func for details phone\n",
        "def getMainCamera(html):\n",
        "  mainC=html.find(\"td\",{\"data-spec\":\"cam1modules\"})\n",
        "  try:\n",
        "    string=\"\"\n",
        "    for cont in mainC.contents:\n",
        "      string =string +str(cont)\n",
        "    return string\n",
        "  except:\n",
        "    return \"\"\n",
        "\n",
        "\n",
        "def getSelfieCamera(html):\n",
        "  selfieC=html.find(\"td\",{\"data-spec\":\"cam2modules\"})\n",
        "  try:\n",
        "    string=\"\"\n",
        "    for cont in selfieC.contents:\n",
        "      string =string +str(cont)\n",
        "    return string\n",
        "  except:\n",
        "    return \"\"\n",
        "\n",
        "def getBattery(html):\n",
        "  battery=html.find(\"td\",{\"data-spec\":\"batdescription1\"})\n",
        "  try:\n",
        "    return battery.contents[0]\n",
        "  except:\n",
        "    return \"\"\n",
        "\n",
        "def getCPU(html):\n",
        "  CPU=html.find(\"td\",{\"data-spec\":\"cpu\"})\n",
        "  try:\n",
        "    return CPU.contents[0]\n",
        "  except:\n",
        "    return \"\"\n",
        "\n",
        "def getSize(html):\n",
        "  size=html.find(\"td\",{\"data-spec\":\"displaysize\"})\n",
        "  try:\n",
        "    return size.contents[0]\n",
        "  except:\n",
        "    return \"\"\n",
        "\n",
        "def getResolution(html):\n",
        "  resolution=html.find(\"td\",{\"data-spec\":\"displayresolution\"})\n",
        "  try:\n",
        "    return resolution.contents[0]\n",
        "  except:\n",
        "    return \"\"\n",
        "#releaseDate\n",
        "def getReleaseDate(html):\n",
        "  releaseDate=html.find(\"span\",{\"data-spec\":\"released-hl\"})\n",
        "  return releaseDate.contents[0].replace('Released ', '')\n",
        "\n",
        "#weight -----------TO DO check if exsist weight above 999g\n",
        "def getWeight(html):\n",
        "  try:\n",
        "    weight=html.find(\"td\",{\"data-spec\":\"weight\"})\n",
        "    return weight.contents[0].split('g', 1)[0]\n",
        "  except:\n",
        "    return \"\"\n",
        "    \n",
        "#thickness\n",
        "def getThickness(html):\n",
        "  try:\n",
        "    thickness=html.find(\"span\",{\"data-spec\":\"body-hl\"})\n",
        "    return thickness.contents[0].split(' ', 2)[1]\n",
        "  except:\n",
        "    return \"\"\n",
        "\n",
        "#RAM memory + Storage memory\n",
        "def getRAM(html):\n",
        "  RAM=html.find(\"td\",{\"data-spec\":\"internalmemory\"})\n",
        "  try:\n",
        "    return RAM.contents[0].split(' ', 2)[1]\n",
        "  except:\n",
        "    return \"\"\n",
        "\n",
        "#RAM memory + Storage memory\n",
        "def getRAMAndStorage(html):\n",
        "  Storage=html.find(\"td\",{\"data-spec\":\"internalmemory\"})\n",
        "  try:\n",
        "    return Storage.contents[0].split(' ', 1)[0]\n",
        "  except:\n",
        "    return \"\"\n",
        "\n",
        "#name\n",
        "def getName(html):\n",
        "  name=html.find(\"h1\",{\"data-spec\":\"modelname\"})\n",
        "  try:\n",
        "    return name.contents[0]\n",
        "  except:\n",
        "    return \"\"  \n",
        "\n",
        "#price\n",
        "def getPrice(html):\n",
        "  try:\n",
        "    price=html.find(\"td\",{\"data-spec\":\"price\"})\n",
        "    return price.contents[0]\n",
        "  except:\n",
        "    return \"\"\n",
        "\n",
        "\n",
        "def getAllDetails(url):\n",
        "  response = requests.get(url['link'])\n",
        "  soup = BeautifulSoup(response.content, \"html.parser\")\n",
        "\n",
        "  #not remember\n",
        "  flag=soup.find(\"div\",{\"class\":\"blur review-background\"})\n",
        "\n",
        "  #check many requests\n",
        "  title=soup.find(\"title\")\n",
        "  if(title.contents[0]==\"Too Many Requests\"):\n",
        "    return False\n",
        "  else:\n",
        "    linkL.append(url['link'])\n",
        "    brandL.append(url['brand'])\n",
        "    mainCameraL.append(getMainCamera(soup))\n",
        "    selfieCameraL.append(getSelfieCamera(soup))\n",
        "    batteryL.append(getBattery(soup))\n",
        "    CPUL.append(getCPU(soup))\n",
        "    resolutionL.append(getResolution(soup))\n",
        "    sizeL.append(getSize(soup))\n",
        "    nameL.append(getName(soup))\n",
        "    StorageL.append(getRAMAndStorage(soup))\n",
        "    RAML.append(getRAM(soup))\n",
        "    thicknessL.append(getThickness(soup))\n",
        "    weightL.append(getWeight(soup))\n",
        "    releaseDateL.append(getReleaseDate(soup))\n",
        "    priceL.append(getPrice(soup))\n",
        "    return True"
      ],
      "metadata": {
        "id": "_0rDwmhkGub8"
      },
      "execution_count": null,
      "outputs": []
    },
    {
      "cell_type": "code",
      "source": [
        "#### code\n",
        "linkL=list()\n",
        "brandL=list()\n",
        "mainCameraL=list()\n",
        "selfieCameraL=list()\n",
        "batteryL=list()\n",
        "CPUL=list()\n",
        "resolutionL=list()\n",
        "sizeL=list()\n",
        "nameL=list()\n",
        "StorageL=list()\n",
        "RAML=list()\n",
        "thicknessL=list()\n",
        "weightL=list()\n",
        "releaseDateL=list()\n",
        "priceL=list()\n",
        "flag=True\n",
        "for i in range(waterMark, len(dfLinksPhone)):\n",
        "  flag = getAllDetails(dfLinksPhone.iloc[i])\n",
        "  if(flag==False):\n",
        "      waterMark=i\n",
        "      break;   \n",
        "  time.sleep(random.uniform(1.1, 2.3))\n",
        "\n"
      ],
      "metadata": {
        "id": "dF4LG8tU-0ED"
      },
      "execution_count": null,
      "outputs": []
    },
    {
      "cell_type": "code",
      "source": [
        "\n",
        "#response = requests.get(dfLinksPhone.iloc[i]['link'])\n",
        "#soup = BeautifulSoup(response.content, \"html.parser\")\n",
        "#soup\n",
        "\n",
        "waterMark"
      ],
      "metadata": {
        "colab": {
          "base_uri": "https://localhost:8080/"
        },
        "id": "frPzNDgdKdSX",
        "outputId": "41120fd3-384a-4c51-e919-6b8e347bb9bd"
      },
      "execution_count": null,
      "outputs": [
        {
          "output_type": "execute_result",
          "data": {
            "text/plain": [
              "557"
            ]
          },
          "metadata": {},
          "execution_count": 7
        }
      ]
    },
    {
      "cell_type": "code",
      "source": [
        "#---------------------------All SAVE after many request for details phone\n",
        "\n",
        "#save phone\n",
        "dfPhones = pd.DataFrame({\"name\":nameL,\"brand\":brandL,\"mainCamera\":mainCameraL, \"selfieCamera\":selfieCameraL, \"battery\":batteryL,\"CPU\":CPUL,\"resolution\":resolutionL,\"size\":sizeL,\n",
        "                       \"Storage\":StorageL,\"RAM\":RAML,\"thickness\":thicknessL,\"weight\":weightL,\"releaseDate\":releaseDateL,\"price\":priceL,\"link\":linkL})\n",
        "\n",
        "#first time\n",
        "#dfPhones.to_csv('phone.csv',index=False)\n",
        "\n",
        "#Not first time\n",
        "dfPhones.to_csv('phone.csv', mode='a', header=False,index=False)\n",
        "\n",
        "\n",
        "\n",
        "#save log\n",
        "f=open(\"log.txt\",\"w\")\n",
        "f.write(str(waterMark))"
      ],
      "metadata": {
        "colab": {
          "base_uri": "https://localhost:8080/"
        },
        "id": "wxJfYq-__V15",
        "outputId": "0711bb49-182e-434f-9b0e-d39149262ce3"
      },
      "execution_count": null,
      "outputs": [
        {
          "output_type": "execute_result",
          "data": {
            "text/plain": [
              "3"
            ]
          },
          "metadata": {},
          "execution_count": 8
        }
      ]
    },
    {
      "cell_type": "code",
      "source": [
        "print(linksPhone[500:505])"
      ],
      "metadata": {
        "colab": {
          "base_uri": "https://localhost:8080/"
        },
        "id": "oqu_g_izFkRe",
        "outputId": "6a4a679d-b96e-42d9-9f91-6f67f9bf7318"
      },
      "execution_count": null,
      "outputs": [
        {
          "output_type": "stream",
          "name": "stdout",
          "text": [
            "['https://www.gsmarena.com/allview_soul_x7_pro-10302.php', 'https://www.gsmarena.com/allview_soul_x7_style-10301.php', 'https://www.gsmarena.com/allview_viva_803g-10303.php', 'https://www.gsmarena.com/allview_v4_viper_pro-10039.php', 'https://www.gsmarena.com/allview_viva_c703-9939.php']\n"
          ]
        }
      ]
    },
    {
      "cell_type": "code",
      "source": [
        "RAM=soup.find(\"td\",{\"data-spec\":\"internalmemory\"})\n",
        "try:\n",
        "  print(RAM.contents[0].split(' ', 2)[1])\n",
        "except:\n",
        "  print(RAM)"
      ],
      "metadata": {
        "colab": {
          "base_uri": "https://localhost:8080/"
        },
        "id": "4AeThjboGQ4t",
        "outputId": "a49a5720-426a-4a4b-c0b0-b5c3dadaa54e"
      },
      "execution_count": null,
      "outputs": [
        {
          "output_type": "stream",
          "name": "stdout",
          "text": [
            "None\n"
          ]
        }
      ]
    },
    {
      "cell_type": "code",
      "source": [
        "#RAM=soup.find(\"td\",{\"data-spec\":\"internalmemory\"})\n",
        "#RAM=soup.find(\"td\")\n",
        "\n",
        "print(RAM)"
      ],
      "metadata": {
        "colab": {
          "base_uri": "https://localhost:8080/"
        },
        "id": "DryrKOBSHp02",
        "outputId": "f99c7b59-53e5-4d49-def1-4b874f88712f"
      },
      "execution_count": null,
      "outputs": [
        {
          "output_type": "stream",
          "name": "stdout",
          "text": [
            "None\n"
          ]
        }
      ]
    },
    {
      "cell_type": "code",
      "source": [
        "dfLinksPhone.iloc[505]['link']\n",
        "RAM=soup.find(\"td\",{\"data-spec\":\"internalmemory\"})\n",
        "print(RAM)"
      ],
      "metadata": {
        "colab": {
          "base_uri": "https://localhost:8080/"
        },
        "id": "4xJlZCb8H0LF",
        "outputId": "2921be03-764c-4379-a3cc-dc99609bea57"
      },
      "execution_count": null,
      "outputs": [
        {
          "output_type": "stream",
          "name": "stdout",
          "text": [
            "None\n"
          ]
        }
      ]
    },
    {
      "cell_type": "code",
      "source": [
        ""
      ],
      "metadata": {
        "id": "Nf0sAOyqJd5k"
      },
      "execution_count": null,
      "outputs": []
    }
  ]
}